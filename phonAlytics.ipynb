{
 "cells": [
  {
   "cell_type": "markdown",
   "metadata": {},
   "source": [
    "# i. Perkenalan"
   ]
  },
  {
   "cell_type": "markdown",
   "metadata": {},
   "source": [
    "## Business Understanding"
   ]
  },
  {
   "cell_type": "markdown",
   "metadata": {},
   "source": [
    "### SMART"
   ]
  },
  {
   "cell_type": "markdown",
   "metadata": {},
   "source": [
    "> "
   ]
  },
  {
   "cell_type": "markdown",
   "metadata": {},
   "source": [
    "### Problem Statement"
   ]
  },
  {
   "cell_type": "markdown",
   "metadata": {},
   "source": [
    "> "
   ]
  },
  {
   "cell_type": "markdown",
   "metadata": {},
   "source": [
    "# ii. Import Libraries"
   ]
  },
  {
   "cell_type": "code",
   "execution_count": 1,
   "metadata": {},
   "outputs": [],
   "source": [
    "import pandas as pd\n",
    "import numpy as np\n"
   ]
  },
  {
   "cell_type": "markdown",
   "metadata": {},
   "source": [
    "-------------------"
   ]
  },
  {
   "cell_type": "markdown",
   "metadata": {},
   "source": [
    "# iii. Data Loading"
   ]
  },
  {
   "cell_type": "code",
   "execution_count": 12,
   "metadata": {},
   "outputs": [],
   "source": [
    "#Load Dataset\n",
    "df_ori = pd.read_csv('final_dataset.csv')\n",
    "\n",
    "#duplicate\n",
    "df = df_ori.copy()"
   ]
  },
  {
   "cell_type": "code",
   "execution_count": 13,
   "metadata": {},
   "outputs": [
    {
     "data": {
      "text/html": [
       "<div>\n",
       "<style scoped>\n",
       "    .dataframe tbody tr th:only-of-type {\n",
       "        vertical-align: middle;\n",
       "    }\n",
       "\n",
       "    .dataframe tbody tr th {\n",
       "        vertical-align: top;\n",
       "    }\n",
       "\n",
       "    .dataframe thead th {\n",
       "        text-align: right;\n",
       "    }\n",
       "</style>\n",
       "<table border=\"1\" class=\"dataframe\">\n",
       "  <thead>\n",
       "    <tr style=\"text-align: right;\">\n",
       "      <th></th>\n",
       "      <th>author</th>\n",
       "      <th>comment</th>\n",
       "      <th>sentiment</th>\n",
       "      <th>timestamp</th>\n",
       "      <th>like_count</th>\n",
       "      <th>tipe_produk</th>\n",
       "      <th>brand</th>\n",
       "      <th>segment</th>\n",
       "      <th>release_date</th>\n",
       "    </tr>\n",
       "  </thead>\n",
       "  <tbody>\n",
       "    <tr>\n",
       "      <th>0</th>\n",
       "      <td>@rinzia2346</td>\n",
       "      <td>\"batre 5000 mah kerasa kurang awet ga sih di h...</td>\n",
       "      <td>Negative</td>\n",
       "      <td>2024-10-23T05:11:29Z</td>\n",
       "      <td>0</td>\n",
       "      <td>Tecno Spark 20C</td>\n",
       "      <td>Tecno</td>\n",
       "      <td>Entry-Level</td>\n",
       "      <td>24-Jan</td>\n",
       "    </tr>\n",
       "    <tr>\n",
       "      <th>1</th>\n",
       "      <td>@HABIIBURRAHMAAN</td>\n",
       "      <td>Info ya kawan2,telefon ini tidak bagus untuk g...</td>\n",
       "      <td>Negative</td>\n",
       "      <td>2024-07-15T11:57:32Z</td>\n",
       "      <td>7</td>\n",
       "      <td>Tecno Spark 20C</td>\n",
       "      <td>Tecno</td>\n",
       "      <td>Entry-Level</td>\n",
       "      <td>24-Jan</td>\n",
       "    </tr>\n",
       "    <tr>\n",
       "      <th>2</th>\n",
       "      <td>@BangMamat-jm1cz</td>\n",
       "      <td>DEMI TUHAN AKU MENYESAL BELI TECNO SPARK 20.c....</td>\n",
       "      <td>Negative</td>\n",
       "      <td>2024-07-15T10:15:51Z</td>\n",
       "      <td>10</td>\n",
       "      <td>Tecno Spark 20C</td>\n",
       "      <td>Tecno</td>\n",
       "      <td>Entry-Level</td>\n",
       "      <td>24-Jan</td>\n",
       "    </tr>\n",
       "    <tr>\n",
       "      <th>3</th>\n",
       "      <td>@minpetir8799</td>\n",
       "      <td>yg saya rasain kok batre lumayan boros ya.ap c...</td>\n",
       "      <td>Negative</td>\n",
       "      <td>2024-06-16T01:23:44Z</td>\n",
       "      <td>1</td>\n",
       "      <td>Tecno Spark 20C</td>\n",
       "      <td>Tecno</td>\n",
       "      <td>Entry-Level</td>\n",
       "      <td>24-Jan</td>\n",
       "    </tr>\n",
       "    <tr>\n",
       "      <th>4</th>\n",
       "      <td>@AnugrahBintang-yb3bg</td>\n",
       "      <td>Punyaku kok gx ada tulisan NFC bagian depan bo...</td>\n",
       "      <td>Negative</td>\n",
       "      <td>2024-06-13T12:29:58Z</td>\n",
       "      <td>2</td>\n",
       "      <td>Tecno Spark 20C</td>\n",
       "      <td>Tecno</td>\n",
       "      <td>Entry-Level</td>\n",
       "      <td>24-Jan</td>\n",
       "    </tr>\n",
       "    <tr>\n",
       "      <th>5</th>\n",
       "      <td>@rosantieka5873</td>\n",
       "      <td>Kak, nge-charge-nya emang lama atau punyaku aj...</td>\n",
       "      <td>Negative</td>\n",
       "      <td>2024-04-21T10:17:56Z</td>\n",
       "      <td>1</td>\n",
       "      <td>Tecno Spark 20C</td>\n",
       "      <td>Tecno</td>\n",
       "      <td>Entry-Level</td>\n",
       "      <td>24-Jan</td>\n",
       "    </tr>\n",
       "    <tr>\n",
       "      <th>6</th>\n",
       "      <td>@JackAmbatukam</td>\n",
       "      <td>HPnya ngeleg njir bagus infinix smart 8 niat b...</td>\n",
       "      <td>Negative</td>\n",
       "      <td>2024-02-22T12:25:43Z</td>\n",
       "      <td>8</td>\n",
       "      <td>Tecno Spark 20C</td>\n",
       "      <td>Tecno</td>\n",
       "      <td>Entry-Level</td>\n",
       "      <td>24-Jan</td>\n",
       "    </tr>\n",
       "    <tr>\n",
       "      <th>7</th>\n",
       "      <td>@LiriklaguKu-x8s</td>\n",
       "      <td>Bang kok punya ku g ada fitur nfc nya, solusin...</td>\n",
       "      <td>Negative</td>\n",
       "      <td>2024-11-04T10:29:48Z</td>\n",
       "      <td>0</td>\n",
       "      <td>Tecno Spark 20C</td>\n",
       "      <td>Tecno</td>\n",
       "      <td>Entry-Level</td>\n",
       "      <td>24-Jan</td>\n",
       "    </tr>\n",
       "    <tr>\n",
       "      <th>8</th>\n",
       "      <td>@encischannel9849</td>\n",
       "      <td>Gue juga pake tekno spark 20c tp ko g ada nfc ya</td>\n",
       "      <td>Negative</td>\n",
       "      <td>2024-09-11T15:30:53Z</td>\n",
       "      <td>0</td>\n",
       "      <td>Tecno Spark 20C</td>\n",
       "      <td>Tecno</td>\n",
       "      <td>Entry-Level</td>\n",
       "      <td>24-Jan</td>\n",
       "    </tr>\n",
       "    <tr>\n",
       "      <th>9</th>\n",
       "      <td>@WelderIjo</td>\n",
       "      <td>hp dont play pubg nih</td>\n",
       "      <td>Negative</td>\n",
       "      <td>2024-05-03T12:14:37Z</td>\n",
       "      <td>0</td>\n",
       "      <td>Tecno Spark 20C</td>\n",
       "      <td>Tecno</td>\n",
       "      <td>Entry-Level</td>\n",
       "      <td>24-Jan</td>\n",
       "    </tr>\n",
       "    <tr>\n",
       "      <th>10</th>\n",
       "      <td>@indrawatydjabar3434</td>\n",
       "      <td>HP ini tiba2 terhapus data atau kembali ke pen...</td>\n",
       "      <td>Negative</td>\n",
       "      <td>2024-03-24T04:26:55Z</td>\n",
       "      <td>6</td>\n",
       "      <td>Tecno Spark 20C</td>\n",
       "      <td>Tecno</td>\n",
       "      <td>Entry-Level</td>\n",
       "      <td>24-Jan</td>\n",
       "    </tr>\n",
       "    <tr>\n",
       "      <th>11</th>\n",
       "      <td>@dikagaming4690</td>\n",
       "      <td>Kok aku pake buat main game kok lemot bangt ba...</td>\n",
       "      <td>Negative</td>\n",
       "      <td>2024-03-13T00:26:32Z</td>\n",
       "      <td>1</td>\n",
       "      <td>Tecno Spark 20C</td>\n",
       "      <td>Tecno</td>\n",
       "      <td>Entry-Level</td>\n",
       "      <td>24-Jan</td>\n",
       "    </tr>\n",
       "    <tr>\n",
       "      <th>12</th>\n",
       "      <td>@edybaskorobaskoro9660</td>\n",
       "      <td>Frame dropnya kok keliatan parah gitu ? Jauh s...</td>\n",
       "      <td>Negative</td>\n",
       "      <td>2024-02-29T18:19:10Z</td>\n",
       "      <td>0</td>\n",
       "      <td>Tecno Spark 20C</td>\n",
       "      <td>Tecno</td>\n",
       "      <td>Entry-Level</td>\n",
       "      <td>24-Jan</td>\n",
       "    </tr>\n",
       "    <tr>\n",
       "      <th>13</th>\n",
       "      <td>@zeptazefanya7743</td>\n",
       "      <td>Minusnya pakai Tecno spark 20c nonton lewat sa...</td>\n",
       "      <td>Negative</td>\n",
       "      <td>2024-02-23T03:34:22Z</td>\n",
       "      <td>2</td>\n",
       "      <td>Tecno Spark 20C</td>\n",
       "      <td>Tecno</td>\n",
       "      <td>Entry-Level</td>\n",
       "      <td>24-Jan</td>\n",
       "    </tr>\n",
       "    <tr>\n",
       "      <th>14</th>\n",
       "      <td>@hazanahatisulung274</td>\n",
       "      <td>Mending infinix smart 8 chipset lebih ngebut d...</td>\n",
       "      <td>Negative</td>\n",
       "      <td>2024-02-16T00:42:27Z</td>\n",
       "      <td>2</td>\n",
       "      <td>Tecno Spark 20C</td>\n",
       "      <td>Tecno</td>\n",
       "      <td>Entry-Level</td>\n",
       "      <td>24-Jan</td>\n",
       "    </tr>\n",
       "    <tr>\n",
       "      <th>15</th>\n",
       "      <td>@Yesika-pc4id</td>\n",
       "      <td>Baru beli lancar sih bagus murah kamera jernih...</td>\n",
       "      <td>Positive</td>\n",
       "      <td>2024-06-10T22:23:27Z</td>\n",
       "      <td>2</td>\n",
       "      <td>Tecno Spark 20C</td>\n",
       "      <td>Tecno</td>\n",
       "      <td>Entry-Level</td>\n",
       "      <td>24-Jan</td>\n",
       "    </tr>\n",
       "    <tr>\n",
       "      <th>16</th>\n",
       "      <td>@alka_12345</td>\n",
       "      <td>Buat wa sosmed YouTubeban kayanya oke.. ngegam...</td>\n",
       "      <td>Positive</td>\n",
       "      <td>2024-06-10T07:21:34Z</td>\n",
       "      <td>0</td>\n",
       "      <td>Tecno Spark 20C</td>\n",
       "      <td>Tecno</td>\n",
       "      <td>Entry-Level</td>\n",
       "      <td>24-Jan</td>\n",
       "    </tr>\n",
       "    <tr>\n",
       "      <th>17</th>\n",
       "      <td>@Rizalll-ru8tt</td>\n",
       "      <td>Akuu makek Tecno 20c NII Alhamdulillah lancar ...</td>\n",
       "      <td>Positive</td>\n",
       "      <td>2024-04-23T16:21:32Z</td>\n",
       "      <td>4</td>\n",
       "      <td>Tecno Spark 20C</td>\n",
       "      <td>Tecno</td>\n",
       "      <td>Entry-Level</td>\n",
       "      <td>24-Jan</td>\n",
       "    </tr>\n",
       "    <tr>\n",
       "      <th>18</th>\n",
       "      <td>@nopellondong4184</td>\n",
       "      <td>kuat nangkap jaringan kh</td>\n",
       "      <td>Positive</td>\n",
       "      <td>2024-04-19T23:48:27Z</td>\n",
       "      <td>1</td>\n",
       "      <td>Tecno Spark 20C</td>\n",
       "      <td>Tecno</td>\n",
       "      <td>Entry-Level</td>\n",
       "      <td>24-Jan</td>\n",
       "    </tr>\n",
       "    <tr>\n",
       "      <th>19</th>\n",
       "      <td>@ghoibcahaya7</td>\n",
       "      <td>keren</td>\n",
       "      <td>Positive</td>\n",
       "      <td>2024-04-11T06:06:11Z</td>\n",
       "      <td>1</td>\n",
       "      <td>Tecno Spark 20C</td>\n",
       "      <td>Tecno</td>\n",
       "      <td>Entry-Level</td>\n",
       "      <td>24-Jan</td>\n",
       "    </tr>\n",
       "  </tbody>\n",
       "</table>\n",
       "</div>"
      ],
      "text/plain": [
       "                    author                                            comment  \\\n",
       "0              @rinzia2346  \"batre 5000 mah kerasa kurang awet ga sih di h...   \n",
       "1         @HABIIBURRAHMAAN  Info ya kawan2,telefon ini tidak bagus untuk g...   \n",
       "2         @BangMamat-jm1cz  DEMI TUHAN AKU MENYESAL BELI TECNO SPARK 20.c....   \n",
       "3            @minpetir8799  yg saya rasain kok batre lumayan boros ya.ap c...   \n",
       "4    @AnugrahBintang-yb3bg  Punyaku kok gx ada tulisan NFC bagian depan bo...   \n",
       "5          @rosantieka5873  Kak, nge-charge-nya emang lama atau punyaku aj...   \n",
       "6           @JackAmbatukam  HPnya ngeleg njir bagus infinix smart 8 niat b...   \n",
       "7         @LiriklaguKu-x8s  Bang kok punya ku g ada fitur nfc nya, solusin...   \n",
       "8        @encischannel9849   Gue juga pake tekno spark 20c tp ko g ada nfc ya   \n",
       "9               @WelderIjo                              hp dont play pubg nih   \n",
       "10    @indrawatydjabar3434  HP ini tiba2 terhapus data atau kembali ke pen...   \n",
       "11         @dikagaming4690  Kok aku pake buat main game kok lemot bangt ba...   \n",
       "12  @edybaskorobaskoro9660  Frame dropnya kok keliatan parah gitu ? Jauh s...   \n",
       "13       @zeptazefanya7743  Minusnya pakai Tecno spark 20c nonton lewat sa...   \n",
       "14    @hazanahatisulung274  Mending infinix smart 8 chipset lebih ngebut d...   \n",
       "15           @Yesika-pc4id  Baru beli lancar sih bagus murah kamera jernih...   \n",
       "16             @alka_12345  Buat wa sosmed YouTubeban kayanya oke.. ngegam...   \n",
       "17          @Rizalll-ru8tt  Akuu makek Tecno 20c NII Alhamdulillah lancar ...   \n",
       "18       @nopellondong4184                           kuat nangkap jaringan kh   \n",
       "19           @ghoibcahaya7                                              keren   \n",
       "\n",
       "   sentiment             timestamp like_count      tipe_produk  brand  \\\n",
       "0   Negative  2024-10-23T05:11:29Z          0  Tecno Spark 20C  Tecno   \n",
       "1   Negative  2024-07-15T11:57:32Z          7  Tecno Spark 20C  Tecno   \n",
       "2   Negative  2024-07-15T10:15:51Z         10  Tecno Spark 20C  Tecno   \n",
       "3   Negative  2024-06-16T01:23:44Z          1  Tecno Spark 20C  Tecno   \n",
       "4   Negative  2024-06-13T12:29:58Z          2  Tecno Spark 20C  Tecno   \n",
       "5   Negative  2024-04-21T10:17:56Z          1  Tecno Spark 20C  Tecno   \n",
       "6   Negative  2024-02-22T12:25:43Z          8  Tecno Spark 20C  Tecno   \n",
       "7   Negative  2024-11-04T10:29:48Z          0  Tecno Spark 20C  Tecno   \n",
       "8   Negative  2024-09-11T15:30:53Z          0  Tecno Spark 20C  Tecno   \n",
       "9   Negative  2024-05-03T12:14:37Z          0  Tecno Spark 20C  Tecno   \n",
       "10  Negative  2024-03-24T04:26:55Z          6  Tecno Spark 20C  Tecno   \n",
       "11  Negative  2024-03-13T00:26:32Z          1  Tecno Spark 20C  Tecno   \n",
       "12  Negative  2024-02-29T18:19:10Z          0  Tecno Spark 20C  Tecno   \n",
       "13  Negative  2024-02-23T03:34:22Z          2  Tecno Spark 20C  Tecno   \n",
       "14  Negative  2024-02-16T00:42:27Z          2  Tecno Spark 20C  Tecno   \n",
       "15  Positive  2024-06-10T22:23:27Z          2  Tecno Spark 20C  Tecno   \n",
       "16  Positive  2024-06-10T07:21:34Z          0  Tecno Spark 20C  Tecno   \n",
       "17  Positive  2024-04-23T16:21:32Z          4  Tecno Spark 20C  Tecno   \n",
       "18  Positive  2024-04-19T23:48:27Z          1  Tecno Spark 20C  Tecno   \n",
       "19  Positive  2024-04-11T06:06:11Z          1  Tecno Spark 20C  Tecno   \n",
       "\n",
       "        segment release_date  \n",
       "0   Entry-Level       24-Jan  \n",
       "1   Entry-Level       24-Jan  \n",
       "2   Entry-Level       24-Jan  \n",
       "3   Entry-Level       24-Jan  \n",
       "4   Entry-Level       24-Jan  \n",
       "5   Entry-Level       24-Jan  \n",
       "6   Entry-Level       24-Jan  \n",
       "7   Entry-Level       24-Jan  \n",
       "8   Entry-Level       24-Jan  \n",
       "9   Entry-Level       24-Jan  \n",
       "10  Entry-Level       24-Jan  \n",
       "11  Entry-Level       24-Jan  \n",
       "12  Entry-Level       24-Jan  \n",
       "13  Entry-Level       24-Jan  \n",
       "14  Entry-Level       24-Jan  \n",
       "15  Entry-Level       24-Jan  \n",
       "16  Entry-Level       24-Jan  \n",
       "17  Entry-Level       24-Jan  \n",
       "18  Entry-Level       24-Jan  \n",
       "19  Entry-Level       24-Jan  "
      ]
     },
     "execution_count": 13,
     "metadata": {},
     "output_type": "execute_result"
    }
   ],
   "source": [
    "df.head(20)"
   ]
  },
  {
   "cell_type": "code",
   "execution_count": 14,
   "metadata": {},
   "outputs": [
    {
     "data": {
      "text/html": [
       "<div>\n",
       "<style scoped>\n",
       "    .dataframe tbody tr th:only-of-type {\n",
       "        vertical-align: middle;\n",
       "    }\n",
       "\n",
       "    .dataframe tbody tr th {\n",
       "        vertical-align: top;\n",
       "    }\n",
       "\n",
       "    .dataframe thead th {\n",
       "        text-align: right;\n",
       "    }\n",
       "</style>\n",
       "<table border=\"1\" class=\"dataframe\">\n",
       "  <thead>\n",
       "    <tr style=\"text-align: right;\">\n",
       "      <th></th>\n",
       "      <th>author</th>\n",
       "      <th>comment</th>\n",
       "      <th>sentiment</th>\n",
       "      <th>timestamp</th>\n",
       "      <th>like_count</th>\n",
       "      <th>tipe_produk</th>\n",
       "      <th>brand</th>\n",
       "      <th>segment</th>\n",
       "      <th>release_date</th>\n",
       "    </tr>\n",
       "  </thead>\n",
       "  <tbody>\n",
       "    <tr>\n",
       "      <th>3302</th>\n",
       "      <td>@rhea11may22</td>\n",
       "      <td>Waduhhh baru sebulan m6pro.\\r\\nAda tmbhn 2'5jt...</td>\n",
       "      <td>Neutral</td>\n",
       "      <td>2024-10-14T17:29:07Z</td>\n",
       "      <td>0</td>\n",
       "      <td>Xiaomi 14T</td>\n",
       "      <td>Xiaomi</td>\n",
       "      <td>Flagship</td>\n",
       "      <td>Sep-24</td>\n",
       "    </tr>\n",
       "    <tr>\n",
       "      <th>3303</th>\n",
       "      <td>@CSGAMING1997</td>\n",
       "      <td>Design Android sama semua model persegi panjan...</td>\n",
       "      <td>Neutral</td>\n",
       "      <td>2024-10-14T10:12:34Z</td>\n",
       "      <td>0</td>\n",
       "      <td>Xiaomi 14T</td>\n",
       "      <td>Xiaomi</td>\n",
       "      <td>Flagship</td>\n",
       "      <td>Sep-24</td>\n",
       "    </tr>\n",
       "    <tr>\n",
       "      <th>3304</th>\n",
       "      <td>@jefrizubir2310</td>\n",
       "      <td>Warna apa tu mas..titan grey ya</td>\n",
       "      <td>Neutral</td>\n",
       "      <td>2024-10-14T09:19:59Z</td>\n",
       "      <td>0</td>\n",
       "      <td>Xiaomi 14T</td>\n",
       "      <td>Xiaomi</td>\n",
       "      <td>Flagship</td>\n",
       "      <td>Sep-24</td>\n",
       "    </tr>\n",
       "    <tr>\n",
       "      <th>3305</th>\n",
       "      <td>@AryaJona</td>\n",
       "      <td>10:38 disini 14 t pro lebih tajam di warna kua...</td>\n",
       "      <td>Negative</td>\n",
       "      <td>2024-10-14T08:19:00Z</td>\n",
       "      <td>0</td>\n",
       "      <td>Xiaomi 14T</td>\n",
       "      <td>Xiaomi</td>\n",
       "      <td>Flagship</td>\n",
       "      <td>Sep-24</td>\n",
       "    </tr>\n",
       "    <tr>\n",
       "      <th>3306</th>\n",
       "      <td>@Loremipsum0029</td>\n",
       "      <td>AMPAS ð</td>\n",
       "      <td>Negative</td>\n",
       "      <td>2024-10-14T07:45:41Z</td>\n",
       "      <td>0</td>\n",
       "      <td>Xiaomi 14T</td>\n",
       "      <td>Xiaomi</td>\n",
       "      <td>Flagship</td>\n",
       "      <td>Sep-24</td>\n",
       "    </tr>\n",
       "    <tr>\n",
       "      <th>3307</th>\n",
       "      <td>@lutfi2072</td>\n",
       "      <td>Alhamdulillah semalem udah kebeli nih hp.. \\r\\...</td>\n",
       "      <td>Positive</td>\n",
       "      <td>2024-10-14T07:40:53Z</td>\n",
       "      <td>0</td>\n",
       "      <td>Xiaomi 14T</td>\n",
       "      <td>Xiaomi</td>\n",
       "      <td>Flagship</td>\n",
       "      <td>Sep-24</td>\n",
       "    </tr>\n",
       "    <tr>\n",
       "      <th>3308</th>\n",
       "      <td>@realnazo617</td>\n",
       "      <td>Alhamdulillah akhirnya kebeli .</td>\n",
       "      <td>Positive</td>\n",
       "      <td>2024-10-14T06:48:46Z</td>\n",
       "      <td>0</td>\n",
       "      <td>Xiaomi 14T</td>\n",
       "      <td>Xiaomi</td>\n",
       "      <td>Flagship</td>\n",
       "      <td>Sep-24</td>\n",
       "    </tr>\n",
       "    <tr>\n",
       "      <th>3309</th>\n",
       "      <td>@dwiangkling7351</td>\n",
       "      <td>Kurang suka sama desainnya kameranya,udah terl...</td>\n",
       "      <td>Negative</td>\n",
       "      <td>2024-10-14T06:47:52Z</td>\n",
       "      <td>0</td>\n",
       "      <td>Xiaomi 14T</td>\n",
       "      <td>Xiaomi</td>\n",
       "      <td>Flagship</td>\n",
       "      <td>Sep-24</td>\n",
       "    </tr>\n",
       "    <tr>\n",
       "      <th>3310</th>\n",
       "      <td>@FitrahG</td>\n",
       "      <td>aneh banget desain hp xiaomi kali ini, terliha...</td>\n",
       "      <td>Negative</td>\n",
       "      <td>2024-10-14T06:30:42Z</td>\n",
       "      <td>0</td>\n",
       "      <td>Xiaomi 14T</td>\n",
       "      <td>Xiaomi</td>\n",
       "      <td>Flagship</td>\n",
       "      <td>Sep-24</td>\n",
       "    </tr>\n",
       "    <tr>\n",
       "      <th>3311</th>\n",
       "      <td>@clopicloo8378</td>\n",
       "      <td>Xiaomi ketika ngurus hp:ðð\\r\\nXiaomi ket...</td>\n",
       "      <td>Positive</td>\n",
       "      <td>2024-10-14T06:23:42Z</td>\n",
       "      <td>0</td>\n",
       "      <td>Xiaomi 14T</td>\n",
       "      <td>Xiaomi</td>\n",
       "      <td>Flagship</td>\n",
       "      <td>Sep-24</td>\n",
       "    </tr>\n",
       "    <tr>\n",
       "      <th>3312</th>\n",
       "      <td>@YaniLasahido</td>\n",
       "      <td>Bagus</td>\n",
       "      <td>Positive</td>\n",
       "      <td>2024-10-14T04:23:36Z</td>\n",
       "      <td>0</td>\n",
       "      <td>Xiaomi 14T</td>\n",
       "      <td>Xiaomi</td>\n",
       "      <td>Flagship</td>\n",
       "      <td>Sep-24</td>\n",
       "    </tr>\n",
       "    <tr>\n",
       "      <th>3313</th>\n",
       "      <td>@laksamanaagung698</td>\n",
       "      <td>Xiaomi dan bbk kenapa ya design kameranya biki...</td>\n",
       "      <td>Negative</td>\n",
       "      <td>2024-10-14T03:59:31Z</td>\n",
       "      <td>0</td>\n",
       "      <td>Xiaomi 14T</td>\n",
       "      <td>Xiaomi</td>\n",
       "      <td>Flagship</td>\n",
       "      <td>Sep-24</td>\n",
       "    </tr>\n",
       "    <tr>\n",
       "      <th>3314</th>\n",
       "      <td>@rauliashintya8029</td>\n",
       "      <td>Mending poco f6 kalo gitu mahð</td>\n",
       "      <td>Negative</td>\n",
       "      <td>2024-10-14T03:22:26Z</td>\n",
       "      <td>0</td>\n",
       "      <td>Xiaomi 14T</td>\n",
       "      <td>Xiaomi</td>\n",
       "      <td>Flagship</td>\n",
       "      <td>Sep-24</td>\n",
       "    </tr>\n",
       "    <tr>\n",
       "      <th>3315</th>\n",
       "      <td>@shop_ping200</td>\n",
       "      <td>14t series bagus disemua sisi ada iP68 mesin g...</td>\n",
       "      <td>Positive</td>\n",
       "      <td>2024-10-14T02:13:56Z</td>\n",
       "      <td>0</td>\n",
       "      <td>Xiaomi 14T</td>\n",
       "      <td>Xiaomi</td>\n",
       "      <td>Flagship</td>\n",
       "      <td>Sep-24</td>\n",
       "    </tr>\n",
       "    <tr>\n",
       "      <th>3316</th>\n",
       "      <td>@badface9358</td>\n",
       "      <td>Menurut saja design kamera nya bukan kurang la...</td>\n",
       "      <td>Negative</td>\n",
       "      <td>2024-10-13T23:36:35Z</td>\n",
       "      <td>0</td>\n",
       "      <td>Xiaomi 14T</td>\n",
       "      <td>Xiaomi</td>\n",
       "      <td>Flagship</td>\n",
       "      <td>Sep-24</td>\n",
       "    </tr>\n",
       "    <tr>\n",
       "      <th>3317</th>\n",
       "      <td>@yssctmr87</td>\n",
       "      <td>Xiaomi group tahun ini model hpnya kureng semu...</td>\n",
       "      <td>Negative</td>\n",
       "      <td>2024-10-13T17:28:53Z</td>\n",
       "      <td>0</td>\n",
       "      <td>Xiaomi 14T</td>\n",
       "      <td>Xiaomi</td>\n",
       "      <td>Flagship</td>\n",
       "      <td>Sep-24</td>\n",
       "    </tr>\n",
       "    <tr>\n",
       "      <th>3318</th>\n",
       "      <td>@reynalrp</td>\n",
       "      <td>Titanium keren bang</td>\n",
       "      <td>Positive</td>\n",
       "      <td>2024-10-13T16:44:34Z</td>\n",
       "      <td>0</td>\n",
       "      <td>Xiaomi 14T</td>\n",
       "      <td>Xiaomi</td>\n",
       "      <td>Flagship</td>\n",
       "      <td>Sep-24</td>\n",
       "    </tr>\n",
       "    <tr>\n",
       "      <th>3319</th>\n",
       "      <td>@masdonsabugzline3454</td>\n",
       "      <td>Apalah daya. Cm bs nonton vid ini pake ip 13 j...</td>\n",
       "      <td>Neutral</td>\n",
       "      <td>2024-10-13T16:29:40Z</td>\n",
       "      <td>0</td>\n",
       "      <td>Xiaomi 14T</td>\n",
       "      <td>Xiaomi</td>\n",
       "      <td>Flagship</td>\n",
       "      <td>Sep-24</td>\n",
       "    </tr>\n",
       "    <tr>\n",
       "      <th>3320</th>\n",
       "      <td>@ianembenk9459</td>\n",
       "      <td>Kenapa lebih bagus Redmi Note 14 Pro Plus desa...</td>\n",
       "      <td>Negative</td>\n",
       "      <td>2024-10-13T15:00:01Z</td>\n",
       "      <td>1</td>\n",
       "      <td>Xiaomi 14T</td>\n",
       "      <td>Xiaomi</td>\n",
       "      <td>Flagship</td>\n",
       "      <td>Sep-24</td>\n",
       "    </tr>\n",
       "    <tr>\n",
       "      <th>3321</th>\n",
       "      <td>@putrajati6997</td>\n",
       "      <td>Model camera nya jauh lebih bagus yang 13</td>\n",
       "      <td>Negative</td>\n",
       "      <td>2024-10-13T14:17:54Z</td>\n",
       "      <td>0</td>\n",
       "      <td>Xiaomi 14T</td>\n",
       "      <td>Xiaomi</td>\n",
       "      <td>Flagship</td>\n",
       "      <td>Sep-24</td>\n",
       "    </tr>\n",
       "  </tbody>\n",
       "</table>\n",
       "</div>"
      ],
      "text/plain": [
       "                     author  \\\n",
       "3302           @rhea11may22   \n",
       "3303          @CSGAMING1997   \n",
       "3304        @jefrizubir2310   \n",
       "3305              @AryaJona   \n",
       "3306        @Loremipsum0029   \n",
       "3307             @lutfi2072   \n",
       "3308           @realnazo617   \n",
       "3309       @dwiangkling7351   \n",
       "3310               @FitrahG   \n",
       "3311         @clopicloo8378   \n",
       "3312          @YaniLasahido   \n",
       "3313     @laksamanaagung698   \n",
       "3314     @rauliashintya8029   \n",
       "3315          @shop_ping200   \n",
       "3316           @badface9358   \n",
       "3317             @yssctmr87   \n",
       "3318              @reynalrp   \n",
       "3319  @masdonsabugzline3454   \n",
       "3320         @ianembenk9459   \n",
       "3321         @putrajati6997   \n",
       "\n",
       "                                                comment sentiment  \\\n",
       "3302  Waduhhh baru sebulan m6pro.\\r\\nAda tmbhn 2'5jt...   Neutral   \n",
       "3303  Design Android sama semua model persegi panjan...   Neutral   \n",
       "3304                    Warna apa tu mas..titan grey ya   Neutral   \n",
       "3305  10:38 disini 14 t pro lebih tajam di warna kua...  Negative   \n",
       "3306                                         AMPAS ð  Negative   \n",
       "3307  Alhamdulillah semalem udah kebeli nih hp.. \\r\\...  Positive   \n",
       "3308                    Alhamdulillah akhirnya kebeli .  Positive   \n",
       "3309  Kurang suka sama desainnya kameranya,udah terl...  Negative   \n",
       "3310  aneh banget desain hp xiaomi kali ini, terliha...  Negative   \n",
       "3311  Xiaomi ketika ngurus hp:ðð\\r\\nXiaomi ket...  Positive   \n",
       "3312                                              Bagus  Positive   \n",
       "3313  Xiaomi dan bbk kenapa ya design kameranya biki...  Negative   \n",
       "3314                  Mending poco f6 kalo gitu mahð  Negative   \n",
       "3315  14t series bagus disemua sisi ada iP68 mesin g...  Positive   \n",
       "3316  Menurut saja design kamera nya bukan kurang la...  Negative   \n",
       "3317  Xiaomi group tahun ini model hpnya kureng semu...  Negative   \n",
       "3318                                Titanium keren bang  Positive   \n",
       "3319  Apalah daya. Cm bs nonton vid ini pake ip 13 j...   Neutral   \n",
       "3320  Kenapa lebih bagus Redmi Note 14 Pro Plus desa...  Negative   \n",
       "3321          Model camera nya jauh lebih bagus yang 13  Negative   \n",
       "\n",
       "                 timestamp like_count tipe_produk   brand   segment  \\\n",
       "3302  2024-10-14T17:29:07Z          0  Xiaomi 14T  Xiaomi  Flagship   \n",
       "3303  2024-10-14T10:12:34Z          0  Xiaomi 14T  Xiaomi  Flagship   \n",
       "3304  2024-10-14T09:19:59Z          0  Xiaomi 14T  Xiaomi  Flagship   \n",
       "3305  2024-10-14T08:19:00Z          0  Xiaomi 14T  Xiaomi  Flagship   \n",
       "3306  2024-10-14T07:45:41Z          0  Xiaomi 14T  Xiaomi  Flagship   \n",
       "3307  2024-10-14T07:40:53Z          0  Xiaomi 14T  Xiaomi  Flagship   \n",
       "3308  2024-10-14T06:48:46Z          0  Xiaomi 14T  Xiaomi  Flagship   \n",
       "3309  2024-10-14T06:47:52Z          0  Xiaomi 14T  Xiaomi  Flagship   \n",
       "3310  2024-10-14T06:30:42Z          0  Xiaomi 14T  Xiaomi  Flagship   \n",
       "3311  2024-10-14T06:23:42Z          0  Xiaomi 14T  Xiaomi  Flagship   \n",
       "3312  2024-10-14T04:23:36Z          0  Xiaomi 14T  Xiaomi  Flagship   \n",
       "3313  2024-10-14T03:59:31Z          0  Xiaomi 14T  Xiaomi  Flagship   \n",
       "3314  2024-10-14T03:22:26Z          0  Xiaomi 14T  Xiaomi  Flagship   \n",
       "3315  2024-10-14T02:13:56Z          0  Xiaomi 14T  Xiaomi  Flagship   \n",
       "3316  2024-10-13T23:36:35Z          0  Xiaomi 14T  Xiaomi  Flagship   \n",
       "3317  2024-10-13T17:28:53Z          0  Xiaomi 14T  Xiaomi  Flagship   \n",
       "3318  2024-10-13T16:44:34Z          0  Xiaomi 14T  Xiaomi  Flagship   \n",
       "3319  2024-10-13T16:29:40Z          0  Xiaomi 14T  Xiaomi  Flagship   \n",
       "3320  2024-10-13T15:00:01Z          1  Xiaomi 14T  Xiaomi  Flagship   \n",
       "3321  2024-10-13T14:17:54Z          0  Xiaomi 14T  Xiaomi  Flagship   \n",
       "\n",
       "     release_date  \n",
       "3302       Sep-24  \n",
       "3303       Sep-24  \n",
       "3304       Sep-24  \n",
       "3305       Sep-24  \n",
       "3306       Sep-24  \n",
       "3307       Sep-24  \n",
       "3308       Sep-24  \n",
       "3309       Sep-24  \n",
       "3310       Sep-24  \n",
       "3311       Sep-24  \n",
       "3312       Sep-24  \n",
       "3313       Sep-24  \n",
       "3314       Sep-24  \n",
       "3315       Sep-24  \n",
       "3316       Sep-24  \n",
       "3317       Sep-24  \n",
       "3318       Sep-24  \n",
       "3319       Sep-24  \n",
       "3320       Sep-24  \n",
       "3321       Sep-24  "
      ]
     },
     "execution_count": 14,
     "metadata": {},
     "output_type": "execute_result"
    }
   ],
   "source": [
    "df.tail(20)"
   ]
  },
  {
   "cell_type": "code",
   "execution_count": 15,
   "metadata": {},
   "outputs": [
    {
     "name": "stdout",
     "output_type": "stream",
     "text": [
      "<class 'pandas.core.frame.DataFrame'>\n",
      "RangeIndex: 3322 entries, 0 to 3321\n",
      "Data columns (total 9 columns):\n",
      " #   Column        Non-Null Count  Dtype \n",
      "---  ------        --------------  ----- \n",
      " 0   author        3322 non-null   object\n",
      " 1   comment       3322 non-null   object\n",
      " 2   sentiment     3320 non-null   object\n",
      " 3   timestamp     3322 non-null   object\n",
      " 4   like_count    3322 non-null   object\n",
      " 5   tipe_produk   3322 non-null   object\n",
      " 6   brand         3322 non-null   object\n",
      " 7   segment       3322 non-null   object\n",
      " 8   release_date  3306 non-null   object\n",
      "dtypes: object(9)\n",
      "memory usage: 233.7+ KB\n"
     ]
    }
   ],
   "source": [
    "df.info()"
   ]
  },
  {
   "cell_type": "markdown",
   "metadata": {},
   "source": [
    "> Ada Missing Value di kolom `sentiment` `release_date`"
   ]
  },
  {
   "cell_type": "code",
   "execution_count": 16,
   "metadata": {},
   "outputs": [],
   "source": [
    "#Ubah tipe data\n",
    "df['like_count'] = pd.to_numeric(df['like_count'], errors='coerce')\n",
    "df['timestamp'] = pd.to_datetime(df['timestamp'])\n",
    "\n"
   ]
  },
  {
   "cell_type": "code",
   "execution_count": 18,
   "metadata": {},
   "outputs": [
    {
     "name": "stdout",
     "output_type": "stream",
     "text": [
      "<class 'pandas.core.frame.DataFrame'>\n",
      "RangeIndex: 3322 entries, 0 to 3321\n",
      "Data columns (total 9 columns):\n",
      " #   Column        Non-Null Count  Dtype              \n",
      "---  ------        --------------  -----              \n",
      " 0   author        3322 non-null   object             \n",
      " 1   comment       3322 non-null   object             \n",
      " 2   sentiment     3320 non-null   object             \n",
      " 3   timestamp     3322 non-null   datetime64[ns, UTC]\n",
      " 4   like_count    3306 non-null   float64            \n",
      " 5   tipe_produk   3322 non-null   object             \n",
      " 6   brand         3322 non-null   object             \n",
      " 7   segment       3322 non-null   object             \n",
      " 8   release_date  3306 non-null   object             \n",
      "dtypes: datetime64[ns, UTC](1), float64(1), object(7)\n",
      "memory usage: 233.7+ KB\n"
     ]
    }
   ],
   "source": [
    "df.info()"
   ]
  },
  {
   "cell_type": "code",
   "execution_count": 19,
   "metadata": {},
   "outputs": [
    {
     "data": {
      "text/plain": [
       "sentiment\n",
       "Negative    1398\n",
       "Positive    1057\n",
       "Neutral      865\n",
       "Name: count, dtype: int64"
      ]
     },
     "execution_count": 19,
     "metadata": {},
     "output_type": "execute_result"
    }
   ],
   "source": [
    "#make sure label hanya ada 3 value\n",
    "df['sentiment'].value_counts()"
   ]
  },
  {
   "cell_type": "code",
   "execution_count": 20,
   "metadata": {},
   "outputs": [
    {
     "data": {
      "text/plain": [
       "author           0\n",
       "comment          0\n",
       "sentiment        2\n",
       "timestamp        0\n",
       "like_count      16\n",
       "tipe_produk      0\n",
       "brand            0\n",
       "segment          0\n",
       "release_date    16\n",
       "dtype: int64"
      ]
     },
     "execution_count": 20,
     "metadata": {},
     "output_type": "execute_result"
    }
   ],
   "source": [
    "df.isnull().sum()"
   ]
  },
  {
   "cell_type": "code",
   "execution_count": 21,
   "metadata": {},
   "outputs": [
    {
     "data": {
      "text/plain": [
       "0"
      ]
     },
     "execution_count": 21,
     "metadata": {},
     "output_type": "execute_result"
    }
   ],
   "source": [
    "df.duplicated().sum()"
   ]
  },
  {
   "cell_type": "markdown",
   "metadata": {},
   "source": [
    "##### Insight : \n"
   ]
  },
  {
   "cell_type": "markdown",
   "metadata": {},
   "source": [
    "-------------------"
   ]
  },
  {
   "cell_type": "markdown",
   "metadata": {},
   "source": [
    "# iv. Exploratory Data Analysis"
   ]
  },
  {
   "cell_type": "markdown",
   "metadata": {},
   "source": [
    "##### Insight : \n",
    "\n",
    "\n",
    "**Rekomendasi :**  \n"
   ]
  },
  {
   "cell_type": "markdown",
   "metadata": {},
   "source": [
    "-------------------"
   ]
  },
  {
   "cell_type": "markdown",
   "metadata": {},
   "source": [
    "# v. Feature Engineering"
   ]
  },
  {
   "cell_type": "markdown",
   "metadata": {},
   "source": [
    "## Split Feature and Target\n"
   ]
  },
  {
   "cell_type": "markdown",
   "metadata": {},
   "source": [
    "## Split Train and Test"
   ]
  },
  {
   "cell_type": "markdown",
   "metadata": {},
   "source": [
    "## Outlier"
   ]
  },
  {
   "cell_type": "markdown",
   "metadata": {},
   "source": [
    "### Outlier Handling"
   ]
  },
  {
   "cell_type": "markdown",
   "metadata": {},
   "source": [
    "## Missing Value\n"
   ]
  },
  {
   "cell_type": "markdown",
   "metadata": {},
   "source": [
    "### Missing Value Handling"
   ]
  },
  {
   "cell_type": "markdown",
   "metadata": {},
   "source": [
    "## Feature Selection"
   ]
  },
  {
   "cell_type": "markdown",
   "metadata": {},
   "source": [
    "## Cardinality Check"
   ]
  },
  {
   "cell_type": "markdown",
   "metadata": {},
   "source": [
    "### High Cardinality on Area"
   ]
  },
  {
   "cell_type": "markdown",
   "metadata": {},
   "source": [
    "## Split numerical dan kategorical column"
   ]
  },
  {
   "cell_type": "markdown",
   "metadata": {},
   "source": [
    "## VIF Test"
   ]
  },
  {
   "cell_type": "markdown",
   "metadata": {},
   "source": [
    "## Feature Scaling"
   ]
  },
  {
   "cell_type": "markdown",
   "metadata": {},
   "source": [
    "## Feature Encoding"
   ]
  },
  {
   "cell_type": "markdown",
   "metadata": {},
   "source": [
    "-------------------"
   ]
  },
  {
   "cell_type": "markdown",
   "metadata": {},
   "source": [
    "# vi. Model Definition"
   ]
  },
  {
   "cell_type": "markdown",
   "metadata": {},
   "source": [
    "-------------------"
   ]
  },
  {
   "cell_type": "markdown",
   "metadata": {},
   "source": [
    "# vii. Model Training"
   ]
  },
  {
   "cell_type": "markdown",
   "metadata": {},
   "source": [
    "-------------------"
   ]
  },
  {
   "cell_type": "markdown",
   "metadata": {},
   "source": [
    "# viii. Model Evaluation"
   ]
  },
  {
   "cell_type": "markdown",
   "metadata": {},
   "source": [
    "##### Insight : \n"
   ]
  },
  {
   "cell_type": "markdown",
   "metadata": {},
   "source": [
    "##### 1. Kategori model"
   ]
  },
  {
   "cell_type": "markdown",
   "metadata": {},
   "source": [
    "##### 2. Kelebihan model yang saya buat"
   ]
  },
  {
   "cell_type": "markdown",
   "metadata": {},
   "source": [
    "##### 3. Kelemahan model yang saya buat :"
   ]
  },
  {
   "cell_type": "markdown",
   "metadata": {},
   "source": [
    "-------------------"
   ]
  },
  {
   "cell_type": "markdown",
   "metadata": {},
   "source": [
    "# ix. Model Saving"
   ]
  },
  {
   "cell_type": "code",
   "execution_count": null,
   "metadata": {},
   "outputs": [],
   "source": [
    "\"\"\" #save into file\n",
    "with open('model.pkl', 'wb') as file_1:\n",
    "    pickle.dump (model, file_1)\n",
    "with open('model_scaler.pkl', 'wb') as file_2:\n",
    "    pickle.dump (scaler, file_2)\n",
    "with open('model_encoder.pkl', 'wb') as file_3:\n",
    "    pickle.dump (encoder, file_3)\n",
    "with open('num_col.txt', 'w') as file_4:\n",
    "    json.dump (num_col, file_4)\n",
    "with open('cat_col.txt', 'w') as file_5:\n",
    "    json.dump (cat_col, file_5)\n",
    "with open('area_mapping.json', 'w') as file_6:\n",
    "    json.dump(area_freq, file_6) \"\"\""
   ]
  },
  {
   "cell_type": "markdown",
   "metadata": {},
   "source": [
    "-------------------"
   ]
  },
  {
   "cell_type": "markdown",
   "metadata": {},
   "source": [
    "# x. Model Inference"
   ]
  },
  {
   "cell_type": "markdown",
   "metadata": {},
   "source": [
    "-------------------"
   ]
  },
  {
   "cell_type": "markdown",
   "metadata": {},
   "source": [
    "# xi. Kesimpulan"
   ]
  },
  {
   "cell_type": "markdown",
   "metadata": {},
   "source": [
    "    \n"
   ]
  },
  {
   "cell_type": "markdown",
   "metadata": {},
   "source": [
    "**Rekomendasi langkah selanjutnya**"
   ]
  },
  {
   "cell_type": "markdown",
   "metadata": {},
   "source": []
  },
  {
   "cell_type": "markdown",
   "metadata": {},
   "source": [
    "-------------------"
   ]
  }
 ],
 "metadata": {
  "kernelspec": {
   "display_name": "base",
   "language": "python",
   "name": "python3"
  },
  "language_info": {
   "codemirror_mode": {
    "name": "ipython",
    "version": 3
   },
   "file_extension": ".py",
   "mimetype": "text/x-python",
   "name": "python",
   "nbconvert_exporter": "python",
   "pygments_lexer": "ipython3",
   "version": "3.12.4"
  }
 },
 "nbformat": 4,
 "nbformat_minor": 2
}
